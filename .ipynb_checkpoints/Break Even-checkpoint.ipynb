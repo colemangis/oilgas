{
 "cells": [
  {
   "cell_type": "code",
   "execution_count": 1,
   "metadata": {},
   "outputs": [],
   "source": [
    "# Import dependencies\n",
    "import pandas as pd\n",
    "import numpy as np \n",
    "import matplotlib.pyplot as plt"
   ]
  },
  {
   "cell_type": "code",
   "execution_count": 32,
   "metadata": {},
   "outputs": [],
   "source": [
    "# Import Excel file into data frame\n",
    "eagleford_df = pd.read_excel(\"Eagle Ford Data.xlsx\")"
   ]
  },
  {
   "cell_type": "code",
   "execution_count": 30,
   "metadata": {},
   "outputs": [
    {
     "data": {
      "text/plain": [
       "['API',\n",
       " 'Longitude',\n",
       " 'Latitude',\n",
       " 'Bottomhole longitude',\n",
       " 'Bottomhole latitude',\n",
       " 'Well Number',\n",
       " 'Lease Name',\n",
       " 'Well Type',\n",
       " 'Permit Type',\n",
       " 'Pad',\n",
       " 'Operator',\n",
       " 'Operator (Subsidiary)',\n",
       " 'Operator (Original)',\n",
       " 'Operator Thematic Group',\n",
       " 'Operator US Focus',\n",
       " 'Play',\n",
       " 'Sub-play',\n",
       " 'State',\n",
       " 'County',\n",
       " 'Region',\n",
       " 'Basin',\n",
       " 'Reservoir',\n",
       " 'Field',\n",
       " 'Permit Date',\n",
       " 'Drilling Start Date',\n",
       " 'Drilling End Date',\n",
       " 'Completion Date',\n",
       " 'First Production Date',\n",
       " 'IP Date',\n",
       " 'Vertical Depth (m)',\n",
       " 'Measured Depth (m)',\n",
       " 'Lateral Length (m)',\n",
       " 'Drilling Days (days)',\n",
       " 'Drilling Speed (m/day)',\n",
       " 'Fracture Stages (stages)',\n",
       " 'Water (l)',\n",
       " 'Proppant (kg)',\n",
       " 'API Gravity (degree)',\n",
       " 'Well Cost Total (US$)',\n",
       " 'Rig Cost (US$)',\n",
       " 'Casing Cost (US$)',\n",
       " 'Water Cost (US$)',\n",
       " 'Proppant Cost (US$)',\n",
       " 'Pumping Cost (US$)',\n",
       " 'Other Cost (US$)',\n",
       " 'Cum30 Oil (bbl)',\n",
       " 'Cum60 Oil (bbl)',\n",
       " 'Cum90 Oil (bbl)',\n",
       " 'Cum180 Oil (bbl)',\n",
       " 'Cum365 Oil (bbl)',\n",
       " 'Cum30 Gas (mcf)',\n",
       " 'Cum60 Gas (mcf)',\n",
       " 'Cum90 Gas (mcf)',\n",
       " 'Cum180 Gas (mcf)',\n",
       " 'Cum365 Gas (mcf)',\n",
       " 'Cum30 Total (boe)',\n",
       " 'Cum60 Total (boe)',\n",
       " 'Cum90 Total (boe)',\n",
       " 'Cum180 Total (boe)',\n",
       " 'Cum365 Total (boe)',\n",
       " 'IP Oil (b/d)',\n",
       " 'IP Gas (mmcfd)',\n",
       " 'IP Total (boe/d)',\n",
       " 'EUR Oil (mmbbl)',\n",
       " 'EUR Gas (bcf)',\n",
       " 'EUR Total (mmboe)',\n",
       " 'bi Oil',\n",
       " 'Di Oil (per month)',\n",
       " 'Dmin Oil (per year)',\n",
       " 'bi Gas',\n",
       " 'Di Gas (per month)',\n",
       " 'Dmin Gas (per year)']"
      ]
     },
     "execution_count": 30,
     "metadata": {},
     "output_type": "execute_result"
    }
   ],
   "source": [
    "eagleford_df.columns.tolist()"
   ]
  },
  {
   "cell_type": "code",
   "execution_count": 34,
   "metadata": {},
   "outputs": [],
   "source": [
    "# Build data frame\n",
    "data_df = pd.DataFrame({\n",
    "                       'Sub-play':eagleford_df['Sub-play'],\n",
    "                       'Well Cost Total (US$)':eagleford_df['Well Cost Total (US$)'],\n",
    "                       'Cum365 Total (boe)':eagleford_df['Cum365 Total (boe)'],\n",
    "                       'Vertical Depth (m)':eagleford_df['Vertical Depth (m)'],\n",
    "                       'Measured Depth (m)':eagleford_df['Measured Depth (m)'],\n",
    "                       'Lateral Length (m)':eagleford_df['Lateral Length (m)'],\n",
    "                       })"
   ]
  },
  {
   "cell_type": "code",
   "execution_count": 35,
   "metadata": {},
   "outputs": [],
   "source": [
    "# Drop rows with missing cumulative data\n",
    "data_df = data_df.dropna(axis=0,how='any')"
   ]
  },
  {
   "cell_type": "code",
   "execution_count": 37,
   "metadata": {},
   "outputs": [],
   "source": [
    "# Price of oil today 8/27/2018\n",
    "oil_price = 68.92\n",
    "data_df['Cum365 Revenue (US$)'] = data_df['Cum365 Total (boe)']*oil_price"
   ]
  },
  {
   "cell_type": "code",
   "execution_count": 38,
   "metadata": {},
   "outputs": [
    {
     "data": {
      "text/html": [
       "<div>\n",
       "<style scoped>\n",
       "    .dataframe tbody tr th:only-of-type {\n",
       "        vertical-align: middle;\n",
       "    }\n",
       "\n",
       "    .dataframe tbody tr th {\n",
       "        vertical-align: top;\n",
       "    }\n",
       "\n",
       "    .dataframe thead th {\n",
       "        text-align: right;\n",
       "    }\n",
       "</style>\n",
       "<table border=\"1\" class=\"dataframe\">\n",
       "  <thead>\n",
       "    <tr style=\"text-align: right;\">\n",
       "      <th></th>\n",
       "      <th>Sub-play</th>\n",
       "      <th>Well Cost Total (US$)</th>\n",
       "      <th>Cum365 Total (boe)</th>\n",
       "      <th>Vertical Depth (m)</th>\n",
       "      <th>Measured Depth (m)</th>\n",
       "      <th>Lateral Length (m)</th>\n",
       "      <th>Cum365 Revenue (US$)</th>\n",
       "    </tr>\n",
       "  </thead>\n",
       "  <tbody>\n",
       "    <tr>\n",
       "      <th>21</th>\n",
       "      <td>Black Oil</td>\n",
       "      <td>7397396.0</td>\n",
       "      <td>20837.0</td>\n",
       "      <td>2332.0</td>\n",
       "      <td>4008.0</td>\n",
       "      <td>1593.0</td>\n",
       "      <td>1436086.04</td>\n",
       "    </tr>\n",
       "    <tr>\n",
       "      <th>22</th>\n",
       "      <td>Black Oil</td>\n",
       "      <td>7046343.0</td>\n",
       "      <td>51826.0</td>\n",
       "      <td>2657.0</td>\n",
       "      <td>4069.0</td>\n",
       "      <td>1341.0</td>\n",
       "      <td>3571847.92</td>\n",
       "    </tr>\n",
       "    <tr>\n",
       "      <th>23</th>\n",
       "      <td>Black Oil</td>\n",
       "      <td>6313942.0</td>\n",
       "      <td>67468.0</td>\n",
       "      <td>3064.0</td>\n",
       "      <td>5022.0</td>\n",
       "      <td>1860.0</td>\n",
       "      <td>4649894.56</td>\n",
       "    </tr>\n",
       "    <tr>\n",
       "      <th>24</th>\n",
       "      <td>Black Oil</td>\n",
       "      <td>5512727.0</td>\n",
       "      <td>20272.0</td>\n",
       "      <td>2377.0</td>\n",
       "      <td>3888.0</td>\n",
       "      <td>1436.0</td>\n",
       "      <td>1397146.24</td>\n",
       "    </tr>\n",
       "    <tr>\n",
       "      <th>25</th>\n",
       "      <td>Black Oil</td>\n",
       "      <td>5065798.0</td>\n",
       "      <td>28316.0</td>\n",
       "      <td>3050.0</td>\n",
       "      <td>4432.0</td>\n",
       "      <td>1313.0</td>\n",
       "      <td>1951538.72</td>\n",
       "    </tr>\n",
       "  </tbody>\n",
       "</table>\n",
       "</div>"
      ],
      "text/plain": [
       "     Sub-play  Well Cost Total (US$)  Cum365 Total (boe)  Vertical Depth (m)  \\\n",
       "21  Black Oil              7397396.0             20837.0              2332.0   \n",
       "22  Black Oil              7046343.0             51826.0              2657.0   \n",
       "23  Black Oil              6313942.0             67468.0              3064.0   \n",
       "24  Black Oil              5512727.0             20272.0              2377.0   \n",
       "25  Black Oil              5065798.0             28316.0              3050.0   \n",
       "\n",
       "    Measured Depth (m)  Lateral Length (m)  Cum365 Revenue (US$)  \n",
       "21              4008.0              1593.0            1436086.04  \n",
       "22              4069.0              1341.0            3571847.92  \n",
       "23              5022.0              1860.0            4649894.56  \n",
       "24              3888.0              1436.0            1397146.24  \n",
       "25              4432.0              1313.0            1951538.72  "
      ]
     },
     "execution_count": 38,
     "metadata": {},
     "output_type": "execute_result"
    }
   ],
   "source": [
    "data_df.head()"
   ]
  },
  {
   "cell_type": "code",
   "execution_count": 39,
   "metadata": {},
   "outputs": [],
   "source": [
    "# Find wells that broke even at one year of production or less\n",
    "break_even = (data_df['Cum365 Revenue (US$)'] - data_df['Well Cost Total (US$)']) >= 0"
   ]
  },
  {
   "cell_type": "code",
   "execution_count": 40,
   "metadata": {},
   "outputs": [],
   "source": [
    "# Add break even column to data_df\n",
    "data_df['Break Even'] = break_even"
   ]
  },
  {
   "cell_type": "code",
   "execution_count": 44,
   "metadata": {},
   "outputs": [
    {
     "data": {
      "text/plain": [
       "True     8862\n",
       "False    6860\n",
       "Name: Break Even, dtype: int64"
      ]
     },
     "execution_count": 44,
     "metadata": {},
     "output_type": "execute_result"
    }
   ],
   "source": [
    "data_df['Break Even'].value_counts()"
   ]
  },
  {
   "cell_type": "code",
   "execution_count": null,
   "metadata": {},
   "outputs": [],
   "source": []
  }
 ],
 "metadata": {
  "kernelspec": {
   "display_name": "Python 3",
   "language": "python",
   "name": "python3"
  },
  "language_info": {
   "codemirror_mode": {
    "name": "ipython",
    "version": 3
   },
   "file_extension": ".py",
   "mimetype": "text/x-python",
   "name": "python",
   "nbconvert_exporter": "python",
   "pygments_lexer": "ipython3",
   "version": "3.6.5"
  }
 },
 "nbformat": 4,
 "nbformat_minor": 2
}
